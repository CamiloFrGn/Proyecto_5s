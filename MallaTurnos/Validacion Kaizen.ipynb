{
 "cells": [
  {
   "cell_type": "code",
   "execution_count": 1,
   "metadata": {},
   "outputs": [],
   "source": [
    "#importar librerias\n",
    "import sys\n",
    "import numpy as np\n",
    "import pandas as pd\n",
    "import matplotlib.pyplot as plt\n",
    "import seaborn as sns\n",
    "import modulo_conn_sql as mcq"
   ]
  },
  {
   "cell_type": "code",
   "execution_count": 2,
   "metadata": {},
   "outputs": [],
   "source": [
    "#Query BD SQL-Server Cemex\n",
    "def querySQL(query, parametros):\n",
    "    #Conectar con base sql y ejecutar consulta\n",
    "    cursor = conectarSQL()\n",
    "    try:\n",
    "        cursor.execute(query, parametros)\n",
    "        #obtener nombre de columnas\n",
    "        names = [ x[0] for x in cursor.description]\n",
    "        \n",
    "        #Reunir todos los resultado en rows\n",
    "        rows = cursor.fetchall()\n",
    "        resultadoSQL = []\n",
    "            \n",
    "        #Hacer un array con los resultados\n",
    "        while rows:\n",
    "            resultadoSQL.append(rows)\n",
    "            if cursor.nextset():\n",
    "                rows = cursor.fetchall()\n",
    "            else:\n",
    "                rows = None\n",
    "                \n",
    "        #Redimensionar el array para que quede en dos dimensiones\n",
    "        resultadoSQL = np.array(resultadoSQL)\n",
    "        resultadoSQL = np.reshape(resultadoSQL, (resultadoSQL.shape[1], resultadoSQL.shape[2]) )\n",
    "    finally:\n",
    "            if cursor is not None:\n",
    "                cursor.close()\n",
    "    return pd.DataFrame(resultadoSQL, columns = names)\n",
    "\n",
    "#SQL Methods to get operation data\n",
    "def conectarSQL():\n",
    "    conn = mcq.ConexionSQL()\n",
    "    cursor = conn.getCursor()\n",
    "    return cursor"
   ]
  },
  {
   "cell_type": "code",
   "execution_count": 3,
   "metadata": {},
   "outputs": [],
   "source": [
    "#parametros\n",
    "pais = 'Colombia'\n",
    "dias = 365\n",
    "\n",
    "#Dataframe con los despachos\n",
    "df = querySQL( \"{CALL SCAC_AP10_dataset_servicios (?,?)}\" , (pais, dias) )\n",
    "\n",
    "#filtro las entregas realizadas, es decir elimino cancelaciones y demás\n",
    "df = df[(df['Entrega'] != '') & (df['Estatus'] == 'Normal') ]"
   ]
  },
  {
   "cell_type": "code",
   "execution_count": null,
   "metadata": {},
   "outputs": [],
   "source": []
  }
 ],
 "metadata": {
  "kernelspec": {
   "display_name": "Python 3",
   "language": "python",
   "name": "python3"
  },
  "language_info": {
   "codemirror_mode": {
    "name": "ipython",
    "version": 3
   },
   "file_extension": ".py",
   "mimetype": "text/x-python",
   "name": "python",
   "nbconvert_exporter": "python",
   "pygments_lexer": "ipython3",
   "version": "3.8.5"
  }
 },
 "nbformat": 4,
 "nbformat_minor": 4
}
